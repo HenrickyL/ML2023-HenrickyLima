{
 "cells": [
  {
   "attachments": {},
   "cell_type": "markdown",
   "metadata": {},
   "source": [
    "# Machine Learning - Prof: Lívia Almada\n",
    "\n",
    "* **Equipe:** Henricky de Lima Monteiro (475075) & Danilo Carneiro Teles (470444)"
   ]
  },
  {
   "cell_type": "code",
   "execution_count": 111,
   "metadata": {},
   "outputs": [],
   "source": [
    "import pandas as pd\n",
    "import numpy as np\n",
    "import matplotlib.pyplot as plt\n",
    "from sklearn.model_selection import train_test_split\n",
    "from sklearn.neighbors import KNeighborsClassifier\n",
    "from sklearn.tree import DecisionTreeClassifier\n",
    "from sklearn.ensemble import RandomForestClassifier\n",
    "from sklearn.metrics import accuracy_score\n",
    "from sklearn.linear_model import LogisticRegression\n",
    "import tensorflow as tf\n",
    "import xgboost as xgb"
   ]
  },
  {
   "attachments": {},
   "cell_type": "markdown",
   "metadata": {},
   "source": [
    "Este trabalho tem por objetivo analisar quais eventos influênciam no resultado de uma partida rankeado do jogo League of Legends(LOL), jogo do estilo MOBA onde duas equipes de 5 campeões que se enfrentam em 3 rotas e um intermédio delas, chamada *jungle*. Uma partida de Lol tem por objetivo destruir torres para acessar a base e destruir o centro da mesma (Nexus). Durante o desenvolvimento deste trabalho nos deparamos com as seguintes dúvida:\n",
    "\n",
    "* **Pré-game:** Existem fatores durante a seleção de campeões que influênciam na vítória? (como os campeões selecionados, bans e feitiços de invocador)\n",
    "* **in-game:** Fatores como quem pegou \"first_blood\", ou o time que pegou mais *kills* influencia na vitória? (independente dos campeões selecionados) \n",
    "* **in-game geral:** Se todos os fatores influênciam na vitória?"
   ]
  },
  {
   "attachments": {},
   "cell_type": "markdown",
   "metadata": {},
   "source": [
    "Nosso dataset tem uma série de eventos que ocorreram na seleção e na partida e que time ganhou, ou seja, temos um problema de classificação supervisionada. Vamos utilizar 6 modelos para tentar identificar o que melhor se aplica ao problema.\n",
    "\n",
    "\n",
    "* KNN\n",
    "* Decision Tree\n",
    "* Random Forest\n",
    "* Regrassão Logistica\n",
    "* Redes Neurais\n",
    "* Gradient Boosting"
   ]
  },
  {
   "attachments": {},
   "cell_type": "markdown",
   "metadata": {},
   "source": [
    "## Lendo dados do DataSet"
   ]
  },
  {
   "cell_type": "code",
   "execution_count": 112,
   "metadata": {},
   "outputs": [
    {
     "data": {
      "text/plain": [
       "(51490, 61)"
      ]
     },
     "execution_count": 112,
     "metadata": {},
     "output_type": "execute_result"
    }
   ],
   "source": [
    "# Leitura dos Dataset\n",
    "df = pd.read_csv(\"games.csv\")\n",
    "df = df.fillna(0)\n",
    "df.shape"
   ]
  },
  {
   "cell_type": "code",
   "execution_count": 113,
   "metadata": {},
   "outputs": [],
   "source": [
    "# Tipos de entradas\n",
    "labels_desejadas_pre = [\n",
    "   'winner', 't1_champ1id', 't1_champ1_sum1', 't1_champ1_sum2', 't1_champ2id', 't1_champ2_sum1',\n",
    "    't1_champ2_sum2', 't1_champ3id', 't1_champ3_sum1', 't1_champ3_sum2', 't1_champ4id', 't1_champ4_sum1',\n",
    "    't1_champ4_sum2', 't1_champ5id', 't1_champ5_sum1', 't1_champ5_sum2', 't2_champ1id', 't2_champ1_sum1', \n",
    "    't2_champ1_sum2', 't2_champ2id', 't2_champ2_sum1','t2_champ2_sum2', 't2_champ3id', 't2_champ3_sum1', \n",
    "    't2_champ3_sum2', 't2_champ4id', 't2_champ4_sum1','t2_champ4_sum2', 't2_champ5id', 't2_champ5_sum1', \n",
    "    't2_champ5_sum2', 'gameDuration'\n",
    "]\n",
    "\n",
    "labels_desejadas_in = [\n",
    "    'winner','firstBlood','firstTower','firstInhibitor','firstBaron','firstDragon','firstRiftHerald', 'gameDuration'\n",
    "]\n",
    "\n",
    "labels_desejadas_in_geral = [\n",
    "    'winner','firstBlood','firstTower','firstInhibitor','firstBaron','firstDragon','firstRiftHerald',\n",
    "    't1_champ1id','t1_champ1_sum1','t1_champ1_sum2','t1_champ2id','t1_champ2_sum1','t1_champ2_sum2',\n",
    "    't1_champ3id','t1_champ3_sum1','t1_champ3_sum2','t1_champ4id','t1_champ4_sum1','t1_champ4_sum2',\n",
    "    't1_champ5id','t1_champ5_sum1','t1_champ5_sum2','t1_towerKills','t1_inhibitorKills','t1_baronKills',\n",
    "    't1_dragonKills','t1_riftHeraldKills','t2_champ1id','t2_champ1_sum1','t2_champ1_sum2','t2_champ2id',\n",
    "    't2_champ2_sum1','t2_champ2_sum2','t2_champ3id','t2_champ3_sum1','t2_champ3_sum2','t2_champ4id',\n",
    "    't2_champ4_sum1','t2_champ4_sum2','t2_champ5id','t2_champ5_sum1','t2_champ5_sum2','t2_towerKills',\n",
    "    't2_inhibitorKills','t2_baronKills','t2_dragonKills','t2_riftHeraldKills','gameDuration'\n",
    "]"
   ]
  },
  {
   "cell_type": "code",
   "execution_count": 114,
   "metadata": {},
   "outputs": [
    {
     "data": {
      "text/html": [
       "<div>\n",
       "<style scoped>\n",
       "    .dataframe tbody tr th:only-of-type {\n",
       "        vertical-align: middle;\n",
       "    }\n",
       "\n",
       "    .dataframe tbody tr th {\n",
       "        vertical-align: top;\n",
       "    }\n",
       "\n",
       "    .dataframe thead th {\n",
       "        text-align: right;\n",
       "    }\n",
       "</style>\n",
       "<table border=\"1\" class=\"dataframe\">\n",
       "  <thead>\n",
       "    <tr style=\"text-align: right;\">\n",
       "      <th></th>\n",
       "      <th>gameId</th>\n",
       "      <th>creationTime</th>\n",
       "      <th>gameDuration</th>\n",
       "      <th>seasonId</th>\n",
       "      <th>winner</th>\n",
       "      <th>firstBlood</th>\n",
       "      <th>firstTower</th>\n",
       "      <th>firstInhibitor</th>\n",
       "      <th>firstBaron</th>\n",
       "      <th>firstDragon</th>\n",
       "      <th>...</th>\n",
       "      <th>t2_towerKills</th>\n",
       "      <th>t2_inhibitorKills</th>\n",
       "      <th>t2_baronKills</th>\n",
       "      <th>t2_dragonKills</th>\n",
       "      <th>t2_riftHeraldKills</th>\n",
       "      <th>t2_ban1</th>\n",
       "      <th>t2_ban2</th>\n",
       "      <th>t2_ban3</th>\n",
       "      <th>t2_ban4</th>\n",
       "      <th>t2_ban5</th>\n",
       "    </tr>\n",
       "  </thead>\n",
       "  <tbody>\n",
       "    <tr>\n",
       "      <th>0</th>\n",
       "      <td>3326086514</td>\n",
       "      <td>1504279457970</td>\n",
       "      <td>1949</td>\n",
       "      <td>9</td>\n",
       "      <td>1</td>\n",
       "      <td>2</td>\n",
       "      <td>1</td>\n",
       "      <td>1</td>\n",
       "      <td>1</td>\n",
       "      <td>1</td>\n",
       "      <td>...</td>\n",
       "      <td>5</td>\n",
       "      <td>0</td>\n",
       "      <td>0</td>\n",
       "      <td>1</td>\n",
       "      <td>1</td>\n",
       "      <td>114</td>\n",
       "      <td>67</td>\n",
       "      <td>43</td>\n",
       "      <td>16</td>\n",
       "      <td>51</td>\n",
       "    </tr>\n",
       "    <tr>\n",
       "      <th>1</th>\n",
       "      <td>3229566029</td>\n",
       "      <td>1497848803862</td>\n",
       "      <td>1851</td>\n",
       "      <td>9</td>\n",
       "      <td>1</td>\n",
       "      <td>1</td>\n",
       "      <td>1</td>\n",
       "      <td>1</td>\n",
       "      <td>0</td>\n",
       "      <td>1</td>\n",
       "      <td>...</td>\n",
       "      <td>2</td>\n",
       "      <td>0</td>\n",
       "      <td>0</td>\n",
       "      <td>0</td>\n",
       "      <td>0</td>\n",
       "      <td>11</td>\n",
       "      <td>67</td>\n",
       "      <td>238</td>\n",
       "      <td>51</td>\n",
       "      <td>420</td>\n",
       "    </tr>\n",
       "    <tr>\n",
       "      <th>2</th>\n",
       "      <td>3327363504</td>\n",
       "      <td>1504360103310</td>\n",
       "      <td>1493</td>\n",
       "      <td>9</td>\n",
       "      <td>1</td>\n",
       "      <td>2</td>\n",
       "      <td>1</td>\n",
       "      <td>1</td>\n",
       "      <td>1</td>\n",
       "      <td>2</td>\n",
       "      <td>...</td>\n",
       "      <td>2</td>\n",
       "      <td>0</td>\n",
       "      <td>0</td>\n",
       "      <td>1</td>\n",
       "      <td>0</td>\n",
       "      <td>157</td>\n",
       "      <td>238</td>\n",
       "      <td>121</td>\n",
       "      <td>57</td>\n",
       "      <td>28</td>\n",
       "    </tr>\n",
       "    <tr>\n",
       "      <th>3</th>\n",
       "      <td>3326856598</td>\n",
       "      <td>1504348503996</td>\n",
       "      <td>1758</td>\n",
       "      <td>9</td>\n",
       "      <td>1</td>\n",
       "      <td>1</td>\n",
       "      <td>1</td>\n",
       "      <td>1</td>\n",
       "      <td>1</td>\n",
       "      <td>1</td>\n",
       "      <td>...</td>\n",
       "      <td>0</td>\n",
       "      <td>0</td>\n",
       "      <td>0</td>\n",
       "      <td>0</td>\n",
       "      <td>0</td>\n",
       "      <td>164</td>\n",
       "      <td>18</td>\n",
       "      <td>141</td>\n",
       "      <td>40</td>\n",
       "      <td>51</td>\n",
       "    </tr>\n",
       "    <tr>\n",
       "      <th>4</th>\n",
       "      <td>3330080762</td>\n",
       "      <td>1504554410899</td>\n",
       "      <td>2094</td>\n",
       "      <td>9</td>\n",
       "      <td>1</td>\n",
       "      <td>2</td>\n",
       "      <td>1</td>\n",
       "      <td>1</td>\n",
       "      <td>1</td>\n",
       "      <td>1</td>\n",
       "      <td>...</td>\n",
       "      <td>3</td>\n",
       "      <td>0</td>\n",
       "      <td>0</td>\n",
       "      <td>1</td>\n",
       "      <td>0</td>\n",
       "      <td>86</td>\n",
       "      <td>11</td>\n",
       "      <td>201</td>\n",
       "      <td>122</td>\n",
       "      <td>18</td>\n",
       "    </tr>\n",
       "    <tr>\n",
       "      <th>...</th>\n",
       "      <td>...</td>\n",
       "      <td>...</td>\n",
       "      <td>...</td>\n",
       "      <td>...</td>\n",
       "      <td>...</td>\n",
       "      <td>...</td>\n",
       "      <td>...</td>\n",
       "      <td>...</td>\n",
       "      <td>...</td>\n",
       "      <td>...</td>\n",
       "      <td>...</td>\n",
       "      <td>...</td>\n",
       "      <td>...</td>\n",
       "      <td>...</td>\n",
       "      <td>...</td>\n",
       "      <td>...</td>\n",
       "      <td>...</td>\n",
       "      <td>...</td>\n",
       "      <td>...</td>\n",
       "      <td>...</td>\n",
       "      <td>...</td>\n",
       "    </tr>\n",
       "    <tr>\n",
       "      <th>51485</th>\n",
       "      <td>3308904636</td>\n",
       "      <td>1503076540231</td>\n",
       "      <td>1944</td>\n",
       "      <td>9</td>\n",
       "      <td>2</td>\n",
       "      <td>1</td>\n",
       "      <td>2</td>\n",
       "      <td>2</td>\n",
       "      <td>0</td>\n",
       "      <td>2</td>\n",
       "      <td>...</td>\n",
       "      <td>10</td>\n",
       "      <td>2</td>\n",
       "      <td>0</td>\n",
       "      <td>4</td>\n",
       "      <td>0</td>\n",
       "      <td>55</td>\n",
       "      <td>-1</td>\n",
       "      <td>90</td>\n",
       "      <td>238</td>\n",
       "      <td>157</td>\n",
       "    </tr>\n",
       "    <tr>\n",
       "      <th>51486</th>\n",
       "      <td>3215685759</td>\n",
       "      <td>1496957179355</td>\n",
       "      <td>3304</td>\n",
       "      <td>9</td>\n",
       "      <td>2</td>\n",
       "      <td>1</td>\n",
       "      <td>1</td>\n",
       "      <td>2</td>\n",
       "      <td>2</td>\n",
       "      <td>2</td>\n",
       "      <td>...</td>\n",
       "      <td>11</td>\n",
       "      <td>7</td>\n",
       "      <td>4</td>\n",
       "      <td>4</td>\n",
       "      <td>1</td>\n",
       "      <td>157</td>\n",
       "      <td>55</td>\n",
       "      <td>119</td>\n",
       "      <td>154</td>\n",
       "      <td>105</td>\n",
       "    </tr>\n",
       "    <tr>\n",
       "      <th>51487</th>\n",
       "      <td>3322765040</td>\n",
       "      <td>1504029863961</td>\n",
       "      <td>2156</td>\n",
       "      <td>9</td>\n",
       "      <td>2</td>\n",
       "      <td>2</td>\n",
       "      <td>2</td>\n",
       "      <td>2</td>\n",
       "      <td>0</td>\n",
       "      <td>1</td>\n",
       "      <td>...</td>\n",
       "      <td>10</td>\n",
       "      <td>2</td>\n",
       "      <td>0</td>\n",
       "      <td>2</td>\n",
       "      <td>0</td>\n",
       "      <td>113</td>\n",
       "      <td>122</td>\n",
       "      <td>53</td>\n",
       "      <td>11</td>\n",
       "      <td>157</td>\n",
       "    </tr>\n",
       "    <tr>\n",
       "      <th>51488</th>\n",
       "      <td>3256675373</td>\n",
       "      <td>1499562036246</td>\n",
       "      <td>1475</td>\n",
       "      <td>9</td>\n",
       "      <td>2</td>\n",
       "      <td>2</td>\n",
       "      <td>2</td>\n",
       "      <td>2</td>\n",
       "      <td>0</td>\n",
       "      <td>2</td>\n",
       "      <td>...</td>\n",
       "      <td>11</td>\n",
       "      <td>3</td>\n",
       "      <td>0</td>\n",
       "      <td>1</td>\n",
       "      <td>0</td>\n",
       "      <td>154</td>\n",
       "      <td>39</td>\n",
       "      <td>51</td>\n",
       "      <td>90</td>\n",
       "      <td>114</td>\n",
       "    </tr>\n",
       "    <tr>\n",
       "      <th>51489</th>\n",
       "      <td>3317333020</td>\n",
       "      <td>1503612754059</td>\n",
       "      <td>1445</td>\n",
       "      <td>9</td>\n",
       "      <td>1</td>\n",
       "      <td>1</td>\n",
       "      <td>1</td>\n",
       "      <td>1</td>\n",
       "      <td>1</td>\n",
       "      <td>2</td>\n",
       "      <td>...</td>\n",
       "      <td>1</td>\n",
       "      <td>0</td>\n",
       "      <td>0</td>\n",
       "      <td>1</td>\n",
       "      <td>0</td>\n",
       "      <td>11</td>\n",
       "      <td>157</td>\n",
       "      <td>141</td>\n",
       "      <td>31</td>\n",
       "      <td>18</td>\n",
       "    </tr>\n",
       "  </tbody>\n",
       "</table>\n",
       "<p>51490 rows × 61 columns</p>\n",
       "</div>"
      ],
      "text/plain": [
       "           gameId   creationTime  gameDuration  seasonId  winner  firstBlood  \\\n",
       "0      3326086514  1504279457970          1949         9       1           2   \n",
       "1      3229566029  1497848803862          1851         9       1           1   \n",
       "2      3327363504  1504360103310          1493         9       1           2   \n",
       "3      3326856598  1504348503996          1758         9       1           1   \n",
       "4      3330080762  1504554410899          2094         9       1           2   \n",
       "...           ...            ...           ...       ...     ...         ...   \n",
       "51485  3308904636  1503076540231          1944         9       2           1   \n",
       "51486  3215685759  1496957179355          3304         9       2           1   \n",
       "51487  3322765040  1504029863961          2156         9       2           2   \n",
       "51488  3256675373  1499562036246          1475         9       2           2   \n",
       "51489  3317333020  1503612754059          1445         9       1           1   \n",
       "\n",
       "       firstTower  firstInhibitor  firstBaron  firstDragon  ...  \\\n",
       "0               1               1           1            1  ...   \n",
       "1               1               1           0            1  ...   \n",
       "2               1               1           1            2  ...   \n",
       "3               1               1           1            1  ...   \n",
       "4               1               1           1            1  ...   \n",
       "...           ...             ...         ...          ...  ...   \n",
       "51485           2               2           0            2  ...   \n",
       "51486           1               2           2            2  ...   \n",
       "51487           2               2           0            1  ...   \n",
       "51488           2               2           0            2  ...   \n",
       "51489           1               1           1            2  ...   \n",
       "\n",
       "       t2_towerKills  t2_inhibitorKills  t2_baronKills  t2_dragonKills  \\\n",
       "0                  5                  0              0               1   \n",
       "1                  2                  0              0               0   \n",
       "2                  2                  0              0               1   \n",
       "3                  0                  0              0               0   \n",
       "4                  3                  0              0               1   \n",
       "...              ...                ...            ...             ...   \n",
       "51485             10                  2              0               4   \n",
       "51486             11                  7              4               4   \n",
       "51487             10                  2              0               2   \n",
       "51488             11                  3              0               1   \n",
       "51489              1                  0              0               1   \n",
       "\n",
       "       t2_riftHeraldKills  t2_ban1  t2_ban2  t2_ban3  t2_ban4  t2_ban5  \n",
       "0                       1      114       67       43       16       51  \n",
       "1                       0       11       67      238       51      420  \n",
       "2                       0      157      238      121       57       28  \n",
       "3                       0      164       18      141       40       51  \n",
       "4                       0       86       11      201      122       18  \n",
       "...                   ...      ...      ...      ...      ...      ...  \n",
       "51485                   0       55       -1       90      238      157  \n",
       "51486                   1      157       55      119      154      105  \n",
       "51487                   0      113      122       53       11      157  \n",
       "51488                   0      154       39       51       90      114  \n",
       "51489                   0       11      157      141       31       18  \n",
       "\n",
       "[51490 rows x 61 columns]"
      ]
     },
     "execution_count": 114,
     "metadata": {},
     "output_type": "execute_result"
    }
   ],
   "source": [
    "# #remoção das colunas desnecessárias\n",
    "# df = df.drop(['gameId', 'creationTime', 'seasonId'], axis=1)\n",
    "# # df = df[labels_desejadas]\n",
    "\n",
    "df"
   ]
  },
  {
   "attachments": {},
   "cell_type": "markdown",
   "metadata": {},
   "source": [
    "## Treinamento de Modelos\n",
    "\n",
    "Vamos criar uma função para gerar a separação de data e teste"
   ]
  },
  {
   "cell_type": "code",
   "execution_count": 115,
   "metadata": {},
   "outputs": [],
   "source": [
    "def GenerateTrainTest(data):\n",
    "    df = data.copy()\n",
    "    #Pegando a coluna a ser analisada(Quem venceu)\n",
    "    x = df.drop(['winner'], axis=1).values \n",
    "    y = df['winner']\n",
    "    # Separando Teste(20) e Treino(80)\n",
    "    X_train, X_test, y_train, y_test = train_test_split(x, y, test_size=0.2, random_state=42)\n",
    "    return X_train, X_test, y_train, y_test"
   ]
  },
  {
   "attachments": {},
   "cell_type": "markdown",
   "metadata": {},
   "source": [
    "## Modelos"
   ]
  },
  {
   "attachments": {},
   "cell_type": "markdown",
   "metadata": {},
   "source": [
    "### KNN\n",
    "\n",
    "O algoritmo KNN é um método de aprendizado supervisionado usado para classificação e regressão. Ele determina a classe ou o valor de um ponto de dados com base nas classes ou nos valores dos pontos vizinhos mais próximos. O KNN é simples e intuitivo, onde a previsão é feita com base na maioria das classes dos vizinhos mais próximos. É adequado para problemas em que a estrutura do conjunto de dados não é linear e não paramétrico."
   ]
  },
  {
   "cell_type": "code",
   "execution_count": 116,
   "metadata": {},
   "outputs": [],
   "source": [
    "def KNNTrain(X_train,X_test, y_train,y_test , k):\n",
    "    model = KNeighborsClassifier(n_neighbors=k)\n",
    "    model.fit(X_train,y_train)\n",
    "    y_pred  = model.predict(X_test)\n",
    "    accuracy = accuracy_score(y_test, y_pred)\n",
    "    print(\"\\tk = {}, accuracy: {:.3f}%\".format(k,accuracy*100))\n",
    "    return accuracy\n"
   ]
  },
  {
   "attachments": {},
   "cell_type": "markdown",
   "metadata": {},
   "source": [
    "### Árvore de Decisão\n",
    "\n",
    "A árvore de decisão é um algoritmo de aprendizado supervisionado que toma decisões em forma de uma estrutura em forma de árvore. Cada nó interno representa um teste em um atributo, cada ramo representa o resultado do teste e cada folha representa a classe ou o valor de destino. A árvore é construída recursivamente, dividindo o conjunto de dados com base em atributos que melhor separam as classes ou reduzem a impureza. As árvores de decisão são fáceis de interpretar e podem lidar com dados numéricos e categóricos."
   ]
  },
  {
   "cell_type": "code",
   "execution_count": 117,
   "metadata": {},
   "outputs": [],
   "source": [
    "def DecisionTreeTrain(X_train,X_test, y_train,y_test):\n",
    "    # Inicializa o classificador de árvore de decisão\n",
    "    model = DecisionTreeClassifier()\n",
    "    # Treina o modelo com os dados de treinamento\n",
    "    model.fit(X_train, y_train)\n",
    "    # Realiza a predição nos dados de teste\n",
    "    y_pred = model.predict(X_test)\n",
    "    # Calcula a acurácia do modelo\n",
    "    accuracy = accuracy_score(y_test, y_pred)\n",
    "    print(\"\\taccuracy: {:.3f}%\".format(accuracy*100))\n",
    "    return accuracy"
   ]
  },
  {
   "attachments": {},
   "cell_type": "markdown",
   "metadata": {},
   "source": [
    "### Random Florest\n",
    "A floresta aleatória é um conjunto de árvores de decisão. Cada árvore é construída em um subconjunto aleatório de atributos e uma amostra aleatória do conjunto de dados. Durante a previsão, as árvores individuais são consultadas e suas previsões são combinadas por votação (classificação) ou média (regressão). As florestas aleatórias são eficazes para lidar com overfitting, lidar com dados desbalanceados e lidar com uma grande quantidade de recursos."
   ]
  },
  {
   "cell_type": "code",
   "execution_count": 118,
   "metadata": {},
   "outputs": [],
   "source": [
    "def RandomForestTrain(X_train,X_test, y_train,y_test):\n",
    "    # Inicializa o classificador de árvore de decisão\n",
    "    model = RandomForestClassifier()\n",
    "    # Treina o modelo com os dados de treinamento\n",
    "    model.fit(X_train, y_train)\n",
    "    # Realiza a predição nos dados de teste\n",
    "    y_pred = model.predict(X_test)\n",
    "    # Calcula a acurácia do modelo\n",
    "    accuracy = accuracy_score(y_test, y_pred)\n",
    "    print(\"\\taccuracy: {:.3f}%\".format(accuracy*100))\n",
    "    return accuracy"
   ]
  },
  {
   "attachments": {},
   "cell_type": "markdown",
   "metadata": {},
   "source": [
    "### Regreção Logistica\n",
    "\n",
    "A regressão logística é um modelo estatístico usado para modelar a probabilidade de uma determinada classe ou evento ocorrer com base em variáveis independentes. É amplamente utilizado para problemas de classificação binária, onde a saída é uma das duas classes possíveis. A regressão logística utiliza uma função logística para mapear a soma ponderada das variáveis independentes para uma probabilidade entre 0 e 1. É interpretável e pode ser estendido para problemas de classificação multiclasse."
   ]
  },
  {
   "cell_type": "code",
   "execution_count": 119,
   "metadata": {},
   "outputs": [],
   "source": [
    "def LogisticRegressionTrain(X_train,X_test, y_train,y_test):\n",
    "    # Criar um objeto de regressão logística\n",
    "    model = LogisticRegression()\n",
    "\n",
    "    # Treinar o modelo de regressão logística usando os dados de treinamento\n",
    "    model.fit(X_train, y_train)\n",
    "\n",
    "    # Fazer previsões usando os dados de teste\n",
    "    y_pred = model.predict(X_test)\n",
    "\n",
    "    # Calcular a acurácia do modelo\n",
    "    accuracy = accuracy_score(y_test, y_pred)\n",
    "    print(\"\\taccuracy: {:.3f}%\".format(accuracy*100))\n",
    "    return accuracy"
   ]
  },
  {
   "attachments": {},
   "cell_type": "markdown",
   "metadata": {},
   "source": [
    "### Gradient Boosting\n",
    "\n",
    "O Gradient Boosting é um método de aprendizado de máquina que combina várias árvores de decisão para criar um modelo forte. Ele treina sequencialmente árvores adicionais para corrigir os erros cometidos pelas árvores anteriores. Ao combinar várias árvores fracas, o Gradient Boosting é capaz de construir um modelo poderoso para problemas de regressão e classificação. Ele utiliza o gradiente descendente para ajustar os pesos das árvores e minimizar a função de perda. O Gradient Boosting é conhecido por sua alta precisão e é amplamente utilizado em competições de ciência de dados e problemas do mundo real."
   ]
  },
  {
   "cell_type": "code",
   "execution_count": 120,
   "metadata": {},
   "outputs": [],
   "source": [
    "# Definir os parâmetros do modelo\n",
    "xgBoostParams = {\n",
    "    'objective': 'binary:logistic',  # Para classificação binária\n",
    "    'eval_metric': 'logloss',\n",
    "    'eta': 0.1,\n",
    "    'max_depth': 3,\n",
    "    'n_estimators': 100\n",
    "}\n",
    "def XGBoostTrain(X_train,X_test, y_train,y_test, params = xgBoostParams):\n",
    "    y_train = y_train.map({1: 0, 2: 1})\n",
    "    y_test = y_test.map({1: 0, 2: 1})\n",
    "    # Criar o objeto do modelo de Gradient Boosting\n",
    "    model = xgb.XGBClassifier(**params)\n",
    "\n",
    "    # Treinar o modelo\n",
    "    model.fit(X_train, y_train)\n",
    "\n",
    "    # Fazer previsões usando os dados de teste\n",
    "    y_pred = model.predict(X_test)\n",
    "\n",
    "    # Calcular a acurácia do modelo\n",
    "    accuracy = accuracy_score(y_test, y_pred)\n",
    "    print(\"\\taccuracy: {:.3f}%\".format(accuracy*100))\n",
    "    return accuracy"
   ]
  },
  {
   "attachments": {},
   "cell_type": "markdown",
   "metadata": {},
   "source": [
    "### Neural Network\n",
    "\n",
    "As redes neurais são modelos de aprendizado de máquina inspirados pelo funcionamento do cérebro humano. Elas consistem em camadas de neurônios interconectados que realizam operações matemáticas para aprender padrões complexos nos dados. As redes neurais são altamente flexíveis e podem lidar com problemas de classificação, regressão e até mesmo tarefas mais avançadas, como reconhecimento de imagem e processamento de linguagem natural. Elas são treinadas usando algoritmos de otimização, como o gradiente descendente, para ajustar os pesos das conexões entre os neurônios."
   ]
  },
  {
   "cell_type": "code",
   "execution_count": 121,
   "metadata": {},
   "outputs": [],
   "source": [
    "def NeuralNetworkTrain(X_train, X_test, y_train, y_test, df):\n",
    "    feature_names = df.drop(['winner'], axis=1).columns.tolist()\n",
    "    input_dim = len(feature_names)\n",
    "    model = tf.keras.models.Sequential([\n",
    "        tf.keras.layers.Dense(64, activation='relu', input_shape=(input_dim,)),\n",
    "        tf.keras.layers.Dense(64, activation='relu'),\n",
    "        tf.keras.layers.Dense(1, activation='sigmoid')\n",
    "    ])\n",
    "\n",
    "    # Compilar o modelo\n",
    "    model.compile(optimizer='adam',\n",
    "                loss='binary_crossentropy',\n",
    "                metrics=['accuracy'])\n",
    "    # Treinar o modelo\n",
    "    model.fit(X_train, y_train, epochs=10, batch_size=32)\n",
    "    # Fazer previsões usando os dados de teste\n",
    "    y_pred = model.predict(X_test)\n",
    "    y_pred = (y_pred > 0.5)  # Converter as previsões em rótulos binários\n",
    "    # Calcular a acurácia do modelo\n",
    "    accuracy = accuracy_score(y_test, y_pred)\n",
    "    print(\"\\taccuracy: {:.3f}%\".format(accuracy*100))\n",
    "    return accuracy"
   ]
  },
  {
   "attachments": {},
   "cell_type": "markdown",
   "metadata": {},
   "source": [
    "## Aplicação dos modelos\n",
    "\n",
    "Agora vamos associar os dataset para cada modelo"
   ]
  },
  {
   "attachments": {},
   "cell_type": "markdown",
   "metadata": {},
   "source": [
    "### KNN"
   ]
  },
  {
   "cell_type": "code",
   "execution_count": 122,
   "metadata": {},
   "outputs": [],
   "source": [
    "models = {\n",
    "    'KNN': KNNTrain,\n",
    "    'Decision Tree': DecisionTreeTrain,\n",
    "    'Random Florest': RandomForestTrain,\n",
    "    'Logistic Regression': LogisticRegressionTrain,\n",
    "    'Gradient Boosting': XGBoostTrain,\n",
    "    'Neural Network': NeuralNetworkTrain\n",
    "}\n",
    "def ApplyModel(df, df_name):\n",
    "    X_train, X_test, y_train, y_test = GenerateTrainTest(df)\n",
    "    model_names = []\n",
    "    model_accuracies = []\n",
    "    knn_best_k = 0\n",
    "    for (name, model) in models.items():\n",
    "        model_names.append(name)\n",
    "        print(f'trains {name} model ...')\n",
    "        # KNN\n",
    "        if(name == 'KNN'):\n",
    "            kList = np.arange(1,22,2)\n",
    "            accuracies = []\n",
    "            for k in kList:\n",
    "                accuracy =  model(X_train, X_test, y_train, y_test, k)\n",
    "                accuracies.append(accuracy)\n",
    "            best_accuracy_index = accuracies.index(max(accuracies))\n",
    "            model_accuracies.append(accuracies[best_accuracy_index])\n",
    "            knn_best_k = kList[best_accuracy_index]\n",
    "            print(f'Best k: {knn_best_k}')\n",
    "            plt.plot(kList, accuracies, 'o')\n",
    "            plt.title(df_name)\n",
    "            plt.show()\n",
    "        elif (name == 'Neural Network'):\n",
    "            accuracy = model(X_train, X_test, y_train, y_test, df)\n",
    "            model_accuracies.append(accuracy)\n",
    "        # Redes Neurais\n",
    "        else:\n",
    "            accuracy =model(X_train, X_test, y_train, y_test)\n",
    "            model_accuracies.append(accuracy)\n",
    "    return zip(model_names, model_accuracies)\n",
    "\n",
    "def LogResults(result, df_name):\n",
    "    format = lambda name, accuracy: f\"\\tBy model '{name}' -> accuracy: {accuracy*100}\"\n",
    "    print(f':: For {df_name} ::')\n",
    "    models = []\n",
    "    accuracies = []\n",
    "    for (name, accuracy) in result:\n",
    "        models.append(name)\n",
    "        accuracies.append(accuracy)\n",
    "        print(format(name,accuracy))\n",
    "    print(models, accuracies)\n",
    "    plt.bar(models, accuracies)\n",
    "    # Personalização do gráfico\n",
    "    plt.xlabel('Modelos')\n",
    "    plt.ylabel('Acurácia')\n",
    "    plt.title('Acurácia dos Modelos')\n",
    "    plt.show()\n"
   ]
  },
  {
   "cell_type": "code",
   "execution_count": 123,
   "metadata": {},
   "outputs": [
    {
     "name": "stdout",
     "output_type": "stream",
     "text": [
      "trains KNN model ...\n",
      "\tk = 1, accuracy: 51.156%\n",
      "\tk = 3, accuracy: 50.369%\n",
      "\tk = 5, accuracy: 50.223%\n",
      "\tk = 7, accuracy: 50.252%\n",
      "\tk = 9, accuracy: 50.544%\n",
      "\tk = 11, accuracy: 50.010%\n",
      "\tk = 13, accuracy: 49.505%\n",
      "\tk = 15, accuracy: 49.806%\n",
      "\tk = 17, accuracy: 50.301%\n",
      "\tk = 19, accuracy: 50.262%\n",
      "\tk = 21, accuracy: 50.185%\n",
      "Best k: 1\n"
     ]
    },
    {
     "data": {
      "image/png": "[encoded data removed]",
      "text/plain": [
       "<Figure size 640x480 with 1 Axes>"
      ]
     },
     "metadata": {},
     "output_type": "display_data"
    },
    {
     "name": "stdout",
     "output_type": "stream",
     "text": [
      "trains Decision Tree model ...\n",
      "\taccuracy: 52.447%\n",
      "trains Random Florest model ...\n",
      "\taccuracy: 52.301%\n",
      "trains Logistic Regression model ...\n",
      "\taccuracy: 52.505%\n",
      "trains Gradient Boosting model ...\n",
      "\taccuracy: 53.146%\n",
      "trains Neural Network model ...\n",
      "Epoch 1/10\n",
      "1288/1288 [==============================] - 3s 2ms/step - loss: -11210941.0000 - accuracy: 0.5060\n",
      "Epoch 2/10\n",
      "1288/1288 [==============================] - 2s 2ms/step - loss: -145947616.0000 - accuracy: 0.5061\n",
      "Epoch 3/10\n",
      "1288/1288 [==============================] - 2s 2ms/step - loss: -532290752.0000 - accuracy: 0.5061\n",
      "Epoch 4/10\n",
      "1288/1288 [==============================] - 2s 2ms/step - loss: -1223970304.0000 - accuracy: 0.5061\n",
      "Epoch 5/10\n",
      "1288/1288 [==============================] - 2s 2ms/step - loss: -2259883264.0000 - accuracy: 0.5061\n",
      "Epoch 6/10\n",
      "1288/1288 [==============================] - 2s 2ms/step - loss: -3686226176.0000 - accuracy: 0.5061\n",
      "Epoch 7/10\n",
      "1288/1288 [==============================] - 2s 2ms/step - loss: -5550512128.0000 - accuracy: 0.5061\n",
      "Epoch 8/10\n",
      "1288/1288 [==============================] - 2s 2ms/step - loss: -7886344192.0000 - accuracy: 0.5061\n",
      "Epoch 9/10\n",
      "1288/1288 [==============================] - 2s 2ms/step - loss: -10744358912.0000 - accuracy: 0.5061\n",
      "Epoch 10/10\n",
      "1288/1288 [==============================] - 2s 2ms/step - loss: -14160116736.0000 - accuracy: 0.5061\n",
      "322/322 [==============================] - 0s 1ms/step\n",
      "\taccuracy: 50.796%\n"
     ]
    }
   ],
   "source": [
    "df_pre = df[labels_desejadas_pre]\n",
    "\n",
    "df_pre_result=ApplyModel(df_pre, 'Pre game')"
   ]
  },
  {
   "cell_type": "code",
   "execution_count": 124,
   "metadata": {},
   "outputs": [
    {
     "name": "stdout",
     "output_type": "stream",
     "text": [
      "trains KNN model ...\n",
      "\tk = 1, accuracy: 82.793%\n",
      "\tk = 3, accuracy: 83.929%\n",
      "\tk = 5, accuracy: 83.958%\n",
      "\tk = 7, accuracy: 83.366%\n",
      "\tk = 9, accuracy: 82.647%\n",
      "\tk = 11, accuracy: 82.132%\n",
      "\tk = 13, accuracy: 81.540%\n",
      "\tk = 15, accuracy: 81.093%\n",
      "\tk = 17, accuracy: 80.783%\n",
      "\tk = 19, accuracy: 79.986%\n",
      "\tk = 21, accuracy: 79.142%\n",
      "Best k: 5\n"
     ]
    },
    {
     "data": {
      "image/png": "[encoded data removed]",
      "text/plain": [
       "<Figure size 640x480 with 1 Axes>"
      ]
     },
     "metadata": {},
     "output_type": "display_data"
    },
    {
     "name": "stdout",
     "output_type": "stream",
     "text": [
      "trains Decision Tree model ...\n",
      "\taccuracy: 86.017%\n",
      "trains Random Florest model ...\n",
      "\taccuracy: 86.425%\n",
      "trains Logistic Regression model ...\n"
     ]
    },
    {
     "name": "stderr",
     "output_type": "stream",
     "text": [
      "c:\\Python311\\Lib\\site-packages\\sklearn\\linear_model\\_logistic.py:444: ConvergenceWarning: lbfgs failed to converge (status=1):\n",
      "STOP: TOTAL NO. of ITERATIONS REACHED LIMIT.\n",
      "\n",
      "Increase the number of iterations (max_iter) or scale the data as shown in:\n",
      "    https://scikit-learn.org/stable/modules/preprocessing.html\n",
      "Please also refer to the documentation for alternative solver options:\n",
      "    https://scikit-learn.org/stable/modules/linear_model.html#logistic-regression\n",
      "  n_iter_i = _check_optimize_result(\n"
     ]
    },
    {
     "name": "stdout",
     "output_type": "stream",
     "text": [
      "\taccuracy: 81.977%\n",
      "trains Gradient Boosting model ...\n",
      "\taccuracy: 90.027%\n",
      "trains Neural Network model ...\n",
      "Epoch 1/10\n",
      "1288/1288 [==============================] - 2s 1ms/step - loss: -2075699.1250 - accuracy: 0.5056\n",
      "Epoch 2/10\n",
      "1288/1288 [==============================] - 2s 1ms/step - loss: -25865364.0000 - accuracy: 0.5061\n",
      "Epoch 3/10\n",
      "1288/1288 [==============================] - 2s 1ms/step - loss: -92244048.0000 - accuracy: 0.5061\n",
      "Epoch 4/10\n",
      "1288/1288 [==============================] - 2s 2ms/step - loss: -211079920.0000 - accuracy: 0.5061\n",
      "Epoch 5/10\n",
      "1288/1288 [==============================] - 2s 2ms/step - loss: -389387520.0000 - accuracy: 0.5061\n",
      "Epoch 6/10\n",
      "1288/1288 [==============================] - 2s 2ms/step - loss: -633610496.0000 - accuracy: 0.5061\n",
      "Epoch 7/10\n",
      "1288/1288 [==============================] - 2s 2ms/step - loss: -951086464.0000 - accuracy: 0.5061\n",
      "Epoch 8/10\n",
      "1288/1288 [==============================] - 2s 2ms/step - loss: -1349130752.0000 - accuracy: 0.5061\n",
      "Epoch 9/10\n",
      "1288/1288 [==============================] - 2s 2ms/step - loss: -1835560960.0000 - accuracy: 0.5061\n",
      "Epoch 10/10\n",
      "1288/1288 [==============================] - 2s 2ms/step - loss: -2417100032.0000 - accuracy: 0.5061\n",
      "322/322 [==============================] - 0s 975us/step\n",
      "\taccuracy: 50.796%\n"
     ]
    }
   ],
   "source": [
    "df_in = df[labels_desejadas_in]\n",
    "\n",
    "df_in_result = ApplyModel(df_in, 'In game')"
   ]
  },
  {
   "cell_type": "code",
   "execution_count": 125,
   "metadata": {},
   "outputs": [
    {
     "name": "stdout",
     "output_type": "stream",
     "text": [
      "trains KNN model ...\n",
      "\tk = 1, accuracy: 51.573%\n",
      "\tk = 3, accuracy: 50.990%\n",
      "\tk = 5, accuracy: 50.893%\n",
      "\tk = 7, accuracy: 51.068%\n",
      "\tk = 9, accuracy: 51.398%\n",
      "\tk = 11, accuracy: 50.893%\n",
      "\tk = 13, accuracy: 50.369%\n",
      "\tk = 15, accuracy: 50.651%\n",
      "\tk = 17, accuracy: 51.340%\n",
      "\tk = 19, accuracy: 51.146%\n",
      "\tk = 21, accuracy: 51.078%\n",
      "Best k: 1\n"
     ]
    },
    {
     "data": {
      "image/png": "[encoded data removed]",
      "text/plain": [
       "<Figure size 640x480 with 1 Axes>"
      ]
     },
     "metadata": {},
     "output_type": "display_data"
    },
    {
     "name": "stdout",
     "output_type": "stream",
     "text": [
      "trains Decision Tree model ...\n",
      "\taccuracy: 96.106%\n",
      "trains Random Florest model ...\n",
      "\taccuracy: 96.941%\n",
      "trains Logistic Regression model ...\n"
     ]
    },
    {
     "name": "stderr",
     "output_type": "stream",
     "text": [
      "c:\\Python311\\Lib\\site-packages\\sklearn\\linear_model\\_logistic.py:444: ConvergenceWarning: lbfgs failed to converge (status=1):\n",
      "STOP: TOTAL NO. of ITERATIONS REACHED LIMIT.\n",
      "\n",
      "Increase the number of iterations (max_iter) or scale the data as shown in:\n",
      "    https://scikit-learn.org/stable/modules/preprocessing.html\n",
      "Please also refer to the documentation for alternative solver options:\n",
      "    https://scikit-learn.org/stable/modules/linear_model.html#logistic-regression\n",
      "  n_iter_i = _check_optimize_result(\n"
     ]
    },
    {
     "name": "stdout",
     "output_type": "stream",
     "text": [
      "\taccuracy: 95.990%\n",
      "trains Gradient Boosting model ...\n",
      "\taccuracy: 96.970%\n",
      "trains Neural Network model ...\n",
      "Epoch 1/10\n",
      "1288/1288 [==============================] - 3s 2ms/step - loss: -7723748.0000 - accuracy: 0.5030\n",
      "Epoch 2/10\n",
      "1288/1288 [==============================] - 2s 2ms/step - loss: -102851736.0000 - accuracy: 0.5061\n",
      "Epoch 3/10\n",
      "1288/1288 [==============================] - 2s 2ms/step - loss: -374695328.0000 - accuracy: 0.5061\n",
      "Epoch 4/10\n",
      "1288/1288 [==============================] - 2s 2ms/step - loss: -861456576.0000 - accuracy: 0.5061\n",
      "Epoch 5/10\n",
      "1288/1288 [==============================] - 2s 2ms/step - loss: -1591975424.0000 - accuracy: 0.5061\n",
      "Epoch 6/10\n",
      "1288/1288 [==============================] - 2s 1ms/step - loss: -2596163328.0000 - accuracy: 0.5061\n",
      "Epoch 7/10\n",
      "1288/1288 [==============================] - 2s 2ms/step - loss: -3903778560.0000 - accuracy: 0.5061\n",
      "Epoch 8/10\n",
      "1288/1288 [==============================] - 2s 2ms/step - loss: -5544702976.0000 - accuracy: 0.5061\n",
      "Epoch 9/10\n",
      "1288/1288 [==============================] - 2s 2ms/step - loss: -7551892992.0000 - accuracy: 0.5061\n",
      "Epoch 10/10\n",
      "1288/1288 [==============================] - 2s 2ms/step - loss: -9955726336.0000 - accuracy: 0.5061\n",
      "322/322 [==============================] - 0s 1ms/step\n",
      "\taccuracy: 50.796%\n"
     ]
    }
   ],
   "source": [
    "df_in_g = df[labels_desejadas_in_geral]\n",
    "\n",
    "df_in_g_result =ApplyModel(df_in_g, 'In game Geral')"
   ]
  },
  {
   "cell_type": "code",
   "execution_count": 126,
   "metadata": {},
   "outputs": [
    {
     "name": "stdout",
     "output_type": "stream",
     "text": [
      ":: For Pre game ::\n",
      "\tBy model 'KNN' -> accuracy: 51.15556418722081\n",
      "\tBy model 'Decision Tree' -> accuracy: 52.44707710234997\n",
      "\tBy model 'Random Florest' -> accuracy: 52.30141775101962\n",
      "\tBy model 'Logistic Regression' -> accuracy: 52.505340842882106\n",
      "\tBy model 'Gradient Boosting' -> accuracy: 53.146241988735675\n",
      "\tBy model 'Neural Network' -> accuracy: 50.79627112060594\n",
      "['KNN', 'Decision Tree', 'Random Florest', 'Logistic Regression', 'Gradient Boosting', 'Neural Network'] [0.5115556418722081, 0.5244707710234997, 0.5230141775101962, 0.5250534084288211, 0.5314624198873568, 0.5079627112060594]\n"
     ]
    },
    {
     "data": {
      "image/png": "[encoded data removed]",
      "text/plain": [
       "<Figure size 640x480 with 1 Axes>"
      ]
     },
     "metadata": {},
     "output_type": "display_data"
    },
    {
     "name": "stdout",
     "output_type": "stream",
     "text": [
      ":: For In game ::\n",
      "\tBy model 'KNN' -> accuracy: 83.95805010681686\n",
      "\tBy model 'Decision Tree' -> accuracy: 86.01670227228588\n",
      "\tBy model 'Random Florest' -> accuracy: 86.42454845601087\n",
      "\tBy model 'Logistic Regression' -> accuracy: 81.97708292872402\n",
      "\tBy model 'Gradient Boosting' -> accuracy: 90.02718974558167\n",
      "\tBy model 'Neural Network' -> accuracy: 50.79627112060594\n",
      "['KNN', 'Decision Tree', 'Random Florest', 'Logistic Regression', 'Gradient Boosting', 'Neural Network'] [0.8395805010681686, 0.8601670227228588, 0.8642454845601087, 0.8197708292872402, 0.9002718974558167, 0.5079627112060594]\n"
     ]
    },
    {
     "data": {
      "image/png": "[encoded data removed]",
      "text/plain": [
       "<Figure size 640x480 with 1 Axes>"
      ]
     },
     "metadata": {},
     "output_type": "display_data"
    },
    {
     "name": "stdout",
     "output_type": "stream",
     "text": [
      ":: For In game Geral ::\n",
      "\tBy model 'KNN' -> accuracy: 51.57312099436784\n",
      "\tBy model 'Decision Tree' -> accuracy: 96.1060400077685\n",
      "\tBy model 'Random Florest' -> accuracy: 96.94115362206254\n",
      "\tBy model 'Logistic Regression' -> accuracy: 95.98951252670422\n",
      "\tBy model 'Gradient Boosting' -> accuracy: 96.97028549232861\n",
      "\tBy model 'Neural Network' -> accuracy: 50.79627112060594\n",
      "['KNN', 'Decision Tree', 'Random Florest', 'Logistic Regression', 'Gradient Boosting', 'Neural Network'] [0.5157312099436784, 0.961060400077685, 0.9694115362206254, 0.9598951252670421, 0.9697028549232861, 0.5079627112060594]\n"
     ]
    },
    {
     "data": {
      "image/png": "[encoded data removed]",
      "text/plain": [
       "<Figure size 640x480 with 1 Axes>"
      ]
     },
     "metadata": {},
     "output_type": "display_data"
    }
   ],
   "source": [
    "LogResults(df_pre_result, 'Pre game')\n",
    "LogResults(df_in_result, 'In game')\n",
    "LogResults(df_in_g_result, 'In game Geral')\n"
   ]
  }
 ],
 "metadata": {
  "kernelspec": {
   "display_name": "Python 3",
   "language": "python",
   "name": "python3"
  },
  "language_info": {
   "codemirror_mode": {
    "name": "ipython",
    "version": 3
   },
   "file_extension": ".py",
   "mimetype": "text/x-python",
   "name": "python",
   "nbconvert_exporter": "python",
   "pygments_lexer": "ipython3",
   "version": "3.11.0"
  },
  "orig_nbformat": 4
 },
 "nbformat": 4,
 "nbformat_minor": 2
}
