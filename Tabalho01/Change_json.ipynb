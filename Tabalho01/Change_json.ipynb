{
 "cells": [
  {
   "cell_type": "code",
   "execution_count": 2,
   "metadata": {},
   "outputs": [],
   "source": [
    "import json"
   ]
  },
  {
   "cell_type": "code",
   "execution_count": 3,
   "metadata": {},
   "outputs": [
    {
     "name": "stdout",
     "output_type": "stream",
     "text": [
      "the Monkey King\n",
      "Flash\n"
     ]
    }
   ],
   "source": [
    "# Lendo o arquivo champions_info.json\n",
    "with open('champion_info_2.json') as file:\n",
    "    champions_info = json.load(file)\n",
    "\n",
    "# Lendo o arquivo summoner_spell_info.json\n",
    "with open('summoner_spell_info.json') as file:\n",
    "    summoner_spell_info = json.load(file)\n",
    "\n",
    "# Função para obter as informações de um campeão pelo seu nome\n",
    "def get_champion_info(champion_name):\n",
    "    return champions_info['data'][champion_name]\n",
    "\n",
    "# Função para obter as informações de um feitiço de invocador pelo seu ID\n",
    "def get_summoner_spell_info(spell_id):\n",
    "    return summoner_spell_info['data'][str(spell_id)]\n",
    "\n",
    "# Exemplo de uso:\n",
    "champion_info = get_champion_info('MonkeyKing')\n",
    "print(champion_info['title'])\n",
    "\n",
    "summoner_spell_info = get_summoner_spell_info(4)\n",
    "print(summoner_spell_info['name'])\n",
    "\n",
    "# Adicione as informações relevantes ao seu dataset de acordo com as suas necessidades\n",
    "\n"
   ]
  },
  {
   "cell_type": "code",
   "execution_count": 4,
   "metadata": {},
   "outputs": [
    {
     "name": "stdout",
     "output_type": "stream",
     "text": [
      "JSON modificado foi escrito no arquivo champions_info_modified.json\n"
     ]
    }
   ],
   "source": [
    "\n",
    "# Modificar o JSON champions_info\n",
    "champions_info_modified = champions_info.copy()  # Cria uma cópia do JSON original\n",
    "champion_names = list(champions_info_modified['data'].keys())  # Cria uma cópia dos nomes dos campeões\n",
    "\n",
    "for champion_name in champion_names:\n",
    "    champion_info = champions_info_modified['data'][champion_name]\n",
    "    champion_id = champion_info['id']\n",
    "    champions_info_modified['data'][str(champion_id)] = champion_info\n",
    "    del champions_info_modified['data'][champion_name]\n",
    "\n",
    "# Escrever o JSON modificado em um novo arquivo\n",
    "with open('champions_info_modified.json', 'w') as file:\n",
    "    json.dump(champions_info_modified, file)\n",
    "\n",
    "print(\"JSON modificado foi escrito no arquivo champions_info_modified.json\")"
   ]
  },
  {
   "cell_type": "code",
   "execution_count": null,
   "metadata": {},
   "outputs": [],
   "source": []
  }
 ],
 "metadata": {
  "kernelspec": {
   "display_name": "Python 3",
   "language": "python",
   "name": "python3"
  },
  "language_info": {
   "codemirror_mode": {
    "name": "ipython",
    "version": 3
   },
   "file_extension": ".py",
   "mimetype": "text/x-python",
   "name": "python",
   "nbconvert_exporter": "python",
   "pygments_lexer": "ipython3",
   "version": "3.11.0"
  },
  "orig_nbformat": 4
 },
 "nbformat": 4,
 "nbformat_minor": 2
}
